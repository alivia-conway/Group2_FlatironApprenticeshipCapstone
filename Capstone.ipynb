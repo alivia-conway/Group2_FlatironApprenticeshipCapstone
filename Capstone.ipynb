{
 "cells": [
  {
   "cell_type": "markdown",
   "id": "c32bb9c4",
   "metadata": {},
   "source": [
    "# Stroke Prediction Analysis for Government Awareness Campaign"
   ]
  },
  {
   "cell_type": "markdown",
   "id": "c5f57663",
   "metadata": {},
   "source": [
    "## Introduction\n",
    "In this notebook, we'll use the healthcare stroke dataset from Kaggle [more info about dataset here] to discern the factors that increase a person's likelihood of experiencing a stroke. We will perform [xyz models] to perform an inference analysis on the dataset. "
   ]
  },
  {
   "cell_type": "markdown",
   "id": "9379e5bc",
   "metadata": {},
   "source": [
    "## Import libraries"
   ]
  },
  {
   "cell_type": "code",
   "execution_count": 3,
   "id": "6d26c3a5",
   "metadata": {},
   "outputs": [],
   "source": [
    "import pandas as pd\n",
    "import numpy as np\n",
    "np.random.seed(0)\n",
    "import matplotlib.pyplot as plt\n",
    "from sklearn.model_selection import train_test_split\n",
    "from sklearn.metrics import accuracy_score, confusion_matrix, classification_report\n",
    "from sklearn.tree import DecisionTreeClassifier\n",
    "from sklearn.ensemble import BaggingClassifier, RandomForestClassifier\n",
    "from sklearn.impute import SimpleImputer"
   ]
  },
  {
   "cell_type": "markdown",
   "id": "19fcd881",
   "metadata": {},
   "source": [
    "## Importing and previewing the dataset"
   ]
  },
  {
   "cell_type": "code",
   "execution_count": 4,
   "id": "ff30586e",
   "metadata": {},
   "outputs": [
    {
     "data": {
      "text/html": [
       "<div>\n",
       "<style scoped>\n",
       "    .dataframe tbody tr th:only-of-type {\n",
       "        vertical-align: middle;\n",
       "    }\n",
       "\n",
       "    .dataframe tbody tr th {\n",
       "        vertical-align: top;\n",
       "    }\n",
       "\n",
       "    .dataframe thead th {\n",
       "        text-align: right;\n",
       "    }\n",
       "</style>\n",
       "<table border=\"1\" class=\"dataframe\">\n",
       "  <thead>\n",
       "    <tr style=\"text-align: right;\">\n",
       "      <th></th>\n",
       "      <th>id</th>\n",
       "      <th>gender</th>\n",
       "      <th>age</th>\n",
       "      <th>hypertension</th>\n",
       "      <th>heart_disease</th>\n",
       "      <th>ever_married</th>\n",
       "      <th>work_type</th>\n",
       "      <th>Residence_type</th>\n",
       "      <th>avg_glucose_level</th>\n",
       "      <th>bmi</th>\n",
       "      <th>smoking_status</th>\n",
       "      <th>stroke</th>\n",
       "    </tr>\n",
       "  </thead>\n",
       "  <tbody>\n",
       "    <tr>\n",
       "      <th>0</th>\n",
       "      <td>9046</td>\n",
       "      <td>Male</td>\n",
       "      <td>67.0</td>\n",
       "      <td>0</td>\n",
       "      <td>1</td>\n",
       "      <td>Yes</td>\n",
       "      <td>Private</td>\n",
       "      <td>Urban</td>\n",
       "      <td>228.69</td>\n",
       "      <td>36.6</td>\n",
       "      <td>formerly smoked</td>\n",
       "      <td>1</td>\n",
       "    </tr>\n",
       "    <tr>\n",
       "      <th>1</th>\n",
       "      <td>51676</td>\n",
       "      <td>Female</td>\n",
       "      <td>61.0</td>\n",
       "      <td>0</td>\n",
       "      <td>0</td>\n",
       "      <td>Yes</td>\n",
       "      <td>Self-employed</td>\n",
       "      <td>Rural</td>\n",
       "      <td>202.21</td>\n",
       "      <td>NaN</td>\n",
       "      <td>never smoked</td>\n",
       "      <td>1</td>\n",
       "    </tr>\n",
       "    <tr>\n",
       "      <th>2</th>\n",
       "      <td>31112</td>\n",
       "      <td>Male</td>\n",
       "      <td>80.0</td>\n",
       "      <td>0</td>\n",
       "      <td>1</td>\n",
       "      <td>Yes</td>\n",
       "      <td>Private</td>\n",
       "      <td>Rural</td>\n",
       "      <td>105.92</td>\n",
       "      <td>32.5</td>\n",
       "      <td>never smoked</td>\n",
       "      <td>1</td>\n",
       "    </tr>\n",
       "    <tr>\n",
       "      <th>3</th>\n",
       "      <td>60182</td>\n",
       "      <td>Female</td>\n",
       "      <td>49.0</td>\n",
       "      <td>0</td>\n",
       "      <td>0</td>\n",
       "      <td>Yes</td>\n",
       "      <td>Private</td>\n",
       "      <td>Urban</td>\n",
       "      <td>171.23</td>\n",
       "      <td>34.4</td>\n",
       "      <td>smokes</td>\n",
       "      <td>1</td>\n",
       "    </tr>\n",
       "    <tr>\n",
       "      <th>4</th>\n",
       "      <td>1665</td>\n",
       "      <td>Female</td>\n",
       "      <td>79.0</td>\n",
       "      <td>1</td>\n",
       "      <td>0</td>\n",
       "      <td>Yes</td>\n",
       "      <td>Self-employed</td>\n",
       "      <td>Rural</td>\n",
       "      <td>174.12</td>\n",
       "      <td>24.0</td>\n",
       "      <td>never smoked</td>\n",
       "      <td>1</td>\n",
       "    </tr>\n",
       "  </tbody>\n",
       "</table>\n",
       "</div>"
      ],
      "text/plain": [
       "      id  gender   age  hypertension  heart_disease ever_married  \\\n",
       "0   9046    Male  67.0             0              1          Yes   \n",
       "1  51676  Female  61.0             0              0          Yes   \n",
       "2  31112    Male  80.0             0              1          Yes   \n",
       "3  60182  Female  49.0             0              0          Yes   \n",
       "4   1665  Female  79.0             1              0          Yes   \n",
       "\n",
       "       work_type Residence_type  avg_glucose_level   bmi   smoking_status  \\\n",
       "0        Private          Urban             228.69  36.6  formerly smoked   \n",
       "1  Self-employed          Rural             202.21   NaN     never smoked   \n",
       "2        Private          Rural             105.92  32.5     never smoked   \n",
       "3        Private          Urban             171.23  34.4           smokes   \n",
       "4  Self-employed          Rural             174.12  24.0     never smoked   \n",
       "\n",
       "   stroke  \n",
       "0       1  \n",
       "1       1  \n",
       "2       1  \n",
       "3       1  \n",
       "4       1  "
      ]
     },
     "execution_count": 4,
     "metadata": {},
     "output_type": "execute_result"
    }
   ],
   "source": [
    "df = pd.read_csv(\"healthcare-dataset-stroke-data.csv\")\n",
    "df.head()"
   ]
  },
  {
   "cell_type": "markdown",
   "id": "6f4dd647",
   "metadata": {},
   "source": [
    "In total, there are 10 predictors, and one outcome variable, stroke - 1 for yes and 0 for no.\n",
    "\n",
    "The 10 predictors are:\n",
    "\n",
    "- `gender`: Female, Male \n",
    "\n",
    "- `age`: Continuous\n",
    "\n",
    "- `hypertension`: 0, 1\n",
    "\n",
    "- `heart_disease`: 0, 1\n",
    "\n",
    "- `ever_married`: Yes, No\n",
    "\n",
    "- `work_type`: Private, Self-employed, children, Govt_job, Never_worked\n",
    "\n",
    "- `Residence_type`: Urban, Rural\n",
    "\n",
    "- `avg_glucose_level`: Continuous\n",
    "\n",
    "- `bmi`: Continuous, including some NaN values\n",
    "\n",
    "- `smoking_status`: never smoked, Unknown, formerly smoked, smokes\n",
    "\n",
    "\n",
    "We'll start by addressing the NaN values in the bmi column. To decide how to address these values, we'll first have a closer look at the bmi column. This will help us understand if we should drop the null values, replace them with the mean, or use another method. "
   ]
  },
  {
   "cell_type": "code",
   "execution_count": 5,
   "id": "9ba734eb",
   "metadata": {},
   "outputs": [
    {
     "data": {
      "text/plain": [
       "(stroke\n",
       " 0    161\n",
       " 1     40\n",
       " Name: count, dtype: int64,\n",
       " stroke\n",
       " 0    0.800995\n",
       " 1    0.199005\n",
       " Name: proportion, dtype: float64)"
      ]
     },
     "execution_count": 5,
     "metadata": {},
     "output_type": "execute_result"
    }
   ],
   "source": [
    "df[df[\"bmi\"].isna()][\"stroke\"].value_counts(), df[df[\"bmi\"].isna()][\"stroke\"].value_counts(normalize=True)"
   ]
  },
  {
   "cell_type": "code",
   "execution_count": 6,
   "id": "d9dcaf7a",
   "metadata": {},
   "outputs": [
    {
     "data": {
      "text/plain": [
       "(stroke\n",
       " 0    4700\n",
       " 1     209\n",
       " Name: count, dtype: int64,\n",
       " stroke\n",
       " 0    0.957425\n",
       " 1    0.042575\n",
       " Name: proportion, dtype: float64)"
      ]
     },
     "execution_count": 6,
     "metadata": {},
     "output_type": "execute_result"
    }
   ],
   "source": [
    "df[df[\"bmi\"].notna()][\"stroke\"].value_counts(), df[df[\"bmi\"].notna()][\"stroke\"].value_counts(normalize=True)"
   ]
  },
  {
   "cell_type": "markdown",
   "id": "65104897",
   "metadata": {},
   "source": [
    "From the above, we can see that the patients with no BMI data are almost 5 times more likely to have had a stroke. Moreover, since our dataset contains only 249 actual strokes, we would be losing valuable information by dropping these rows.  \n",
    "\n",
    "Let's take a basic look at the importance of BMI as a stroke predictor. "
   ]
  },
  {
   "cell_type": "code",
   "execution_count": 7,
   "id": "8aa932c3",
   "metadata": {},
   "outputs": [
    {
     "data": {
      "text/html": [
       "<div>\n",
       "<style scoped>\n",
       "    .dataframe tbody tr th:only-of-type {\n",
       "        vertical-align: middle;\n",
       "    }\n",
       "\n",
       "    .dataframe tbody tr th {\n",
       "        vertical-align: top;\n",
       "    }\n",
       "\n",
       "    .dataframe thead th {\n",
       "        text-align: right;\n",
       "    }\n",
       "</style>\n",
       "<table border=\"1\" class=\"dataframe\">\n",
       "  <thead>\n",
       "    <tr style=\"text-align: right;\">\n",
       "      <th></th>\n",
       "      <th>mean</th>\n",
       "      <th>std</th>\n",
       "    </tr>\n",
       "    <tr>\n",
       "      <th>stroke</th>\n",
       "      <th></th>\n",
       "      <th></th>\n",
       "    </tr>\n",
       "  </thead>\n",
       "  <tbody>\n",
       "    <tr>\n",
       "      <th>0</th>\n",
       "      <td>28.823064</td>\n",
       "      <td>7.908287</td>\n",
       "    </tr>\n",
       "    <tr>\n",
       "      <th>1</th>\n",
       "      <td>30.471292</td>\n",
       "      <td>6.329452</td>\n",
       "    </tr>\n",
       "  </tbody>\n",
       "</table>\n",
       "</div>"
      ],
      "text/plain": [
       "             mean       std\n",
       "stroke                     \n",
       "0       28.823064  7.908287\n",
       "1       30.471292  6.329452"
      ]
     },
     "execution_count": 7,
     "metadata": {},
     "output_type": "execute_result"
    }
   ],
   "source": [
    "df.groupby(\"stroke\")[\"bmi\"].agg([np.mean, np.std])"
   ]
  },
  {
   "cell_type": "code",
   "execution_count": 8,
   "id": "eed4d7e9",
   "metadata": {},
   "outputs": [
    {
     "data": {
      "text/plain": [
       "(10.3, 97.6)"
      ]
     },
     "execution_count": 8,
     "metadata": {},
     "output_type": "execute_result"
    }
   ],
   "source": [
    "df[\"bmi\"].min(), df[\"bmi\"].max()"
   ]
  },
  {
   "cell_type": "markdown",
   "id": "84df6943",
   "metadata": {},
   "source": [
    "We can see there is little difference between the mean value and standard deviation of the BMI column in the stroke vs nonstroke cases. Given this information, we are likely safe to replace the NaN values with the mean. "
   ]
  },
  {
   "cell_type": "code",
   "execution_count": 17,
   "id": "b9f8eab7",
   "metadata": {},
   "outputs": [],
   "source": [
    "# calculate mean of bmi when stroke equals 1\n",
    "mean_1 = df.loc[df['stroke'] == 1, 'bmi'].mean()\n",
    "# calculate mean of bmi when stroke equals 0\n",
    "mean_0 = df.loc[df['stroke'] == 0, 'bmi'].mean()\n",
    "\n",
    "# replace null values for bmi when stroke equals 1 with mean_1\n",
    "df.loc[(df['stroke'] == 1) & (df['bmi'].isna()), 'bmi'] = mean_1\n",
    "# replace null values for bmi when stroke equals 0 with mean_0 \n",
    "df.loc[(df['stroke'] == 0) & (df['bmi'].isna()), 'bmi'] = mean_0"
   ]
  },
  {
   "cell_type": "code",
   "execution_count": 19,
   "id": "e5b42b04",
   "metadata": {},
   "outputs": [
    {
     "data": {
      "text/html": [
       "<div>\n",
       "<style scoped>\n",
       "    .dataframe tbody tr th:only-of-type {\n",
       "        vertical-align: middle;\n",
       "    }\n",
       "\n",
       "    .dataframe tbody tr th {\n",
       "        vertical-align: top;\n",
       "    }\n",
       "\n",
       "    .dataframe thead th {\n",
       "        text-align: right;\n",
       "    }\n",
       "</style>\n",
       "<table border=\"1\" class=\"dataframe\">\n",
       "  <thead>\n",
       "    <tr style=\"text-align: right;\">\n",
       "      <th></th>\n",
       "      <th>id</th>\n",
       "      <th>gender</th>\n",
       "      <th>age</th>\n",
       "      <th>hypertension</th>\n",
       "      <th>heart_disease</th>\n",
       "      <th>ever_married</th>\n",
       "      <th>work_type</th>\n",
       "      <th>Residence_type</th>\n",
       "      <th>avg_glucose_level</th>\n",
       "      <th>bmi</th>\n",
       "      <th>smoking_status</th>\n",
       "      <th>stroke</th>\n",
       "    </tr>\n",
       "  </thead>\n",
       "  <tbody>\n",
       "  </tbody>\n",
       "</table>\n",
       "</div>"
      ],
      "text/plain": [
       "Empty DataFrame\n",
       "Columns: [id, gender, age, hypertension, heart_disease, ever_married, work_type, Residence_type, avg_glucose_level, bmi, smoking_status, stroke]\n",
       "Index: []"
      ]
     },
     "execution_count": 19,
     "metadata": {},
     "output_type": "execute_result"
    }
   ],
   "source": [
    "df[df[\"bmi\"].isna()]"
   ]
  },
  {
   "cell_type": "markdown",
   "id": "8a42a851",
   "metadata": {},
   "source": [
    "As shown above, there are no more missing values in the bmi column. We replaced the missing values dynamically using the stroke column."
   ]
  },
  {
   "cell_type": "code",
   "execution_count": 24,
   "id": "643f2877",
   "metadata": {},
   "outputs": [
    {
     "data": {
      "text/plain": [
       "False"
      ]
     },
     "execution_count": 24,
     "metadata": {},
     "output_type": "execute_result"
    }
   ],
   "source": [
    "df.isnull().values.any()"
   ]
  },
  {
   "cell_type": "markdown",
   "id": "1b958c2e",
   "metadata": {},
   "source": [
    "No more missing values exist in the data. "
   ]
  },
  {
   "cell_type": "code",
   "execution_count": null,
   "id": "c83a9b22",
   "metadata": {},
   "outputs": [],
   "source": []
  }
 ],
 "metadata": {
  "kernelspec": {
   "display_name": "Python 3",
   "language": "python",
   "name": "python3"
  },
  "language_info": {
   "codemirror_mode": {
    "name": "ipython",
    "version": 3
   },
   "file_extension": ".py",
   "mimetype": "text/x-python",
   "name": "python",
   "nbconvert_exporter": "python",
   "pygments_lexer": "ipython3",
   "version": "3.8.5"
  }
 },
 "nbformat": 4,
 "nbformat_minor": 5
}
