{
 "cells": [
  {
   "cell_type": "markdown",
   "id": "55571304",
   "metadata": {},
   "source": [
    "# Stroke Prediction Analysis for Government Awareness Campaign"
   ]
  },
  {
   "cell_type": "markdown",
   "id": "48dfe900",
   "metadata": {},
   "source": [
    "## Introduction\n",
    "In this notebook, we'll use the healthcare stroke dataset from Kaggle [more info about dataset here] to discern the factors that increase a person's likelihood of experiencing a stroke. We will perform [xyz models] to perform an inference analysis on the dataset. "
   ]
  },
  {
   "cell_type": "markdown",
   "id": "01f57993",
   "metadata": {},
   "source": [
    "## Import libraries"
   ]
  },
  {
   "cell_type": "code",
   "execution_count": 1,
   "id": "c73434ee",
   "metadata": {},
   "outputs": [],
   "source": [
    "import pandas as pd\n",
    "import numpy as np\n",
    "np.random.seed(42)\n",
    "from pandas import get_dummies\n",
    "import matplotlib.pyplot as plt\n",
    "from sklearn.model_selection import train_test_split, StratifiedKFold,\\\n",
    "cross_val_score, cross_validate, GridSearchCV\n",
    "from sklearn.neighbors import KNeighborsClassifier\n",
    "from sklearn.linear_model import LogisticRegression\n",
    "from sklearn.metrics import accuracy_score, confusion_matrix, roc_curve, auc,\\\n",
    "classification_report, make_scorer, recall_score\n",
    "from sklearn.tree import DecisionTreeClassifier\n",
    "from sklearn.ensemble import BaggingClassifier, RandomForestClassifier,\\\n",
    "ExtraTreesClassifier, VotingClassifier, StackingRegressor\n",
    "from sklearn.impute import SimpleImputer\n",
    "from sklearn.preprocessing import LabelEncoder, OneHotEncoder,\\\n",
    "StandardScaler, MinMaxScaler, normalize\n",
    "from imblearn.over_sampling import SMOTE"
   ]
  },
  {
   "cell_type": "markdown",
   "id": "3e1c050d",
   "metadata": {},
   "source": [
    "## Importing and previewing the dataset"
   ]
  },
  {
   "cell_type": "code",
   "execution_count": 2,
   "id": "46faea8b",
   "metadata": {},
   "outputs": [
    {
     "data": {
      "text/html": [
       "<div>\n",
       "<style scoped>\n",
       "    .dataframe tbody tr th:only-of-type {\n",
       "        vertical-align: middle;\n",
       "    }\n",
       "\n",
       "    .dataframe tbody tr th {\n",
       "        vertical-align: top;\n",
       "    }\n",
       "\n",
       "    .dataframe thead th {\n",
       "        text-align: right;\n",
       "    }\n",
       "</style>\n",
       "<table border=\"1\" class=\"dataframe\">\n",
       "  <thead>\n",
       "    <tr style=\"text-align: right;\">\n",
       "      <th></th>\n",
       "      <th>id</th>\n",
       "      <th>gender</th>\n",
       "      <th>age</th>\n",
       "      <th>hypertension</th>\n",
       "      <th>heart_disease</th>\n",
       "      <th>ever_married</th>\n",
       "      <th>work_type</th>\n",
       "      <th>Residence_type</th>\n",
       "      <th>avg_glucose_level</th>\n",
       "      <th>bmi</th>\n",
       "      <th>smoking_status</th>\n",
       "      <th>stroke</th>\n",
       "    </tr>\n",
       "  </thead>\n",
       "  <tbody>\n",
       "    <tr>\n",
       "      <th>0</th>\n",
       "      <td>9046</td>\n",
       "      <td>Male</td>\n",
       "      <td>67.0</td>\n",
       "      <td>0</td>\n",
       "      <td>1</td>\n",
       "      <td>Yes</td>\n",
       "      <td>Private</td>\n",
       "      <td>Urban</td>\n",
       "      <td>228.69</td>\n",
       "      <td>36.6</td>\n",
       "      <td>formerly smoked</td>\n",
       "      <td>1</td>\n",
       "    </tr>\n",
       "    <tr>\n",
       "      <th>1</th>\n",
       "      <td>51676</td>\n",
       "      <td>Female</td>\n",
       "      <td>61.0</td>\n",
       "      <td>0</td>\n",
       "      <td>0</td>\n",
       "      <td>Yes</td>\n",
       "      <td>Self-employed</td>\n",
       "      <td>Rural</td>\n",
       "      <td>202.21</td>\n",
       "      <td>NaN</td>\n",
       "      <td>never smoked</td>\n",
       "      <td>1</td>\n",
       "    </tr>\n",
       "    <tr>\n",
       "      <th>2</th>\n",
       "      <td>31112</td>\n",
       "      <td>Male</td>\n",
       "      <td>80.0</td>\n",
       "      <td>0</td>\n",
       "      <td>1</td>\n",
       "      <td>Yes</td>\n",
       "      <td>Private</td>\n",
       "      <td>Rural</td>\n",
       "      <td>105.92</td>\n",
       "      <td>32.5</td>\n",
       "      <td>never smoked</td>\n",
       "      <td>1</td>\n",
       "    </tr>\n",
       "    <tr>\n",
       "      <th>3</th>\n",
       "      <td>60182</td>\n",
       "      <td>Female</td>\n",
       "      <td>49.0</td>\n",
       "      <td>0</td>\n",
       "      <td>0</td>\n",
       "      <td>Yes</td>\n",
       "      <td>Private</td>\n",
       "      <td>Urban</td>\n",
       "      <td>171.23</td>\n",
       "      <td>34.4</td>\n",
       "      <td>smokes</td>\n",
       "      <td>1</td>\n",
       "    </tr>\n",
       "    <tr>\n",
       "      <th>4</th>\n",
       "      <td>1665</td>\n",
       "      <td>Female</td>\n",
       "      <td>79.0</td>\n",
       "      <td>1</td>\n",
       "      <td>0</td>\n",
       "      <td>Yes</td>\n",
       "      <td>Self-employed</td>\n",
       "      <td>Rural</td>\n",
       "      <td>174.12</td>\n",
       "      <td>24.0</td>\n",
       "      <td>never smoked</td>\n",
       "      <td>1</td>\n",
       "    </tr>\n",
       "  </tbody>\n",
       "</table>\n",
       "</div>"
      ],
      "text/plain": [
       "      id  gender   age  hypertension  heart_disease ever_married  \\\n",
       "0   9046    Male  67.0             0              1          Yes   \n",
       "1  51676  Female  61.0             0              0          Yes   \n",
       "2  31112    Male  80.0             0              1          Yes   \n",
       "3  60182  Female  49.0             0              0          Yes   \n",
       "4   1665  Female  79.0             1              0          Yes   \n",
       "\n",
       "       work_type Residence_type  avg_glucose_level   bmi   smoking_status  \\\n",
       "0        Private          Urban             228.69  36.6  formerly smoked   \n",
       "1  Self-employed          Rural             202.21   NaN     never smoked   \n",
       "2        Private          Rural             105.92  32.5     never smoked   \n",
       "3        Private          Urban             171.23  34.4           smokes   \n",
       "4  Self-employed          Rural             174.12  24.0     never smoked   \n",
       "\n",
       "   stroke  \n",
       "0       1  \n",
       "1       1  \n",
       "2       1  \n",
       "3       1  \n",
       "4       1  "
      ]
     },
     "execution_count": 2,
     "metadata": {},
     "output_type": "execute_result"
    }
   ],
   "source": [
    "df = pd.read_csv(\"healthcare-dataset-stroke-data.csv\")\n",
    "df.head()"
   ]
  },
  {
   "cell_type": "markdown",
   "id": "40cf70d7",
   "metadata": {},
   "source": [
    "Before we start, we'll drop the id column, as that provides no value to our analysis. "
   ]
  },
  {
   "cell_type": "code",
   "execution_count": 3,
   "id": "788ad0ea",
   "metadata": {},
   "outputs": [],
   "source": [
    "df.drop(\"id\", axis=1, inplace=True)"
   ]
  },
  {
   "cell_type": "markdown",
   "id": "b57bebba",
   "metadata": {},
   "source": [
    "In total, there are 10 predictors, and one outcome variable, stroke - 1 for yes and 0 for no.\n",
    "\n",
    "The 10 predictors are:\n",
    "\n",
    "- `gender`: Female, Male \n",
    "\n",
    "- `age`: Continuous\n",
    "\n",
    "- `hypertension`: 0, 1\n",
    "\n",
    "- `heart_disease`: 0, 1\n",
    "\n",
    "- `ever_married`: Yes, No\n",
    "\n",
    "- `work_type`: Private, Self-employed, children, Govt_job, Never_worked\n",
    "\n",
    "- `Residence_type`: Urban, Rural\n",
    "\n",
    "- `avg_glucose_level`: Continuous\n",
    "\n",
    "- `bmi`: Continuous, including some NaN values\n",
    "\n",
    "- `smoking_status`: never smoked, Unknown, formerly smoked, smokes\n",
    "\n",
    "\n",
    "We'll start by encoding the categorical data. Since the categorical columns are nominal, meaning the categories are not hierarchical, we'll use one-hot-encoding. After encoding the categorical columns, we'll address the NaN values in the bmi column by using simple_imputer to replace null values with the predicted K nearest neighbor (KNN) value. "
   ]
  },
  {
   "cell_type": "code",
   "execution_count": 10,
   "id": "ab8d66f9",
   "metadata": {},
   "outputs": [
    {
     "data": {
      "text/plain": [
       "gender                object\n",
       "age                  float64\n",
       "hypertension           int64\n",
       "heart_disease          int64\n",
       "ever_married          object\n",
       "work_type             object\n",
       "Residence_type        object\n",
       "avg_glucose_level    float64\n",
       "bmi                  float64\n",
       "smoking_status        object\n",
       "stroke                 int64\n",
       "dtype: object"
      ]
     },
     "execution_count": 10,
     "metadata": {},
     "output_type": "execute_result"
    }
   ],
   "source": [
    "df.dtypes"
   ]
  },
  {
   "cell_type": "code",
   "execution_count": 11,
   "id": "72dfebf0",
   "metadata": {
    "scrolled": true
   },
   "outputs": [
    {
     "data": {
      "text/plain": [
       "gender\n",
       "Female    2994\n",
       "Male      2115\n",
       "Other        1\n",
       "Name: count, dtype: int64"
      ]
     },
     "execution_count": 11,
     "metadata": {},
     "output_type": "execute_result"
    }
   ],
   "source": [
    "df[\"gender\"].value_counts()"
   ]
  },
  {
   "cell_type": "markdown",
   "id": "fa051417",
   "metadata": {},
   "source": [
    "It doesn't make sense to create a new category for \"Other\" since only one person identified as that, so we'll drop it. "
   ]
  },
  {
   "cell_type": "code",
   "execution_count": 12,
   "id": "3a444cf1",
   "metadata": {},
   "outputs": [
    {
     "data": {
      "text/plain": [
       "gender\n",
       "Female    2994\n",
       "Male      2115\n",
       "Name: count, dtype: int64"
      ]
     },
     "execution_count": 12,
     "metadata": {},
     "output_type": "execute_result"
    }
   ],
   "source": [
    "# LabelEncoder\n",
    "df = df[df[\"gender\"]!=\"Other\"]\n",
    "df[\"gender\"].value_counts()"
   ]
  },
  {
   "cell_type": "code",
   "execution_count": 13,
   "id": "01bfaff7",
   "metadata": {},
   "outputs": [
    {
     "data": {
      "text/plain": [
       "(5109, 11)"
      ]
     },
     "execution_count": 13,
     "metadata": {},
     "output_type": "execute_result"
    }
   ],
   "source": [
    "df.shape"
   ]
  },
  {
   "cell_type": "code",
   "execution_count": 14,
   "id": "f48782e0",
   "metadata": {},
   "outputs": [
    {
     "data": {
      "text/plain": [
       "ever_married\n",
       "Yes    3353\n",
       "No     1756\n",
       "Name: count, dtype: int64"
      ]
     },
     "execution_count": 14,
     "metadata": {},
     "output_type": "execute_result"
    }
   ],
   "source": [
    "# OHE\n",
    "df[\"ever_married\"].value_counts()"
   ]
  },
  {
   "cell_type": "code",
   "execution_count": 15,
   "id": "8235ff1a",
   "metadata": {},
   "outputs": [
    {
     "data": {
      "text/plain": [
       "Residence_type\n",
       "Urban    2596\n",
       "Rural    2513\n",
       "Name: count, dtype: int64"
      ]
     },
     "execution_count": 15,
     "metadata": {},
     "output_type": "execute_result"
    }
   ],
   "source": [
    "# OHE\n",
    "df[\"Residence_type\"].value_counts()"
   ]
  },
  {
   "cell_type": "code",
   "execution_count": 16,
   "id": "d91fd662",
   "metadata": {},
   "outputs": [
    {
     "data": {
      "text/plain": [
       "work_type\n",
       "Private          2924\n",
       "Self-employed     819\n",
       "children          687\n",
       "Govt_job          657\n",
       "Never_worked       22\n",
       "Name: count, dtype: int64"
      ]
     },
     "execution_count": 16,
     "metadata": {},
     "output_type": "execute_result"
    }
   ],
   "source": [
    "# OHE\n",
    "df[\"work_type\"].value_counts()"
   ]
  },
  {
   "cell_type": "code",
   "execution_count": 17,
   "id": "3078024f",
   "metadata": {},
   "outputs": [
    {
     "data": {
      "text/plain": [
       "smoking_status\n",
       "never smoked       1892\n",
       "Unknown            1544\n",
       "formerly smoked     884\n",
       "smokes              789\n",
       "Name: count, dtype: int64"
      ]
     },
     "execution_count": 17,
     "metadata": {},
     "output_type": "execute_result"
    }
   ],
   "source": [
    "# OHE\n",
    "df[\"smoking_status\"].value_counts()"
   ]
  },
  {
   "cell_type": "code",
   "execution_count": 20,
   "id": "84e0a638",
   "metadata": {},
   "outputs": [
    {
     "data": {
      "text/html": [
       "<div>\n",
       "<style scoped>\n",
       "    .dataframe tbody tr th:only-of-type {\n",
       "        vertical-align: middle;\n",
       "    }\n",
       "\n",
       "    .dataframe tbody tr th {\n",
       "        vertical-align: top;\n",
       "    }\n",
       "\n",
       "    .dataframe thead th {\n",
       "        text-align: right;\n",
       "    }\n",
       "</style>\n",
       "<table border=\"1\" class=\"dataframe\">\n",
       "  <thead>\n",
       "    <tr style=\"text-align: right;\">\n",
       "      <th></th>\n",
       "      <th>gender</th>\n",
       "      <th>ever_married</th>\n",
       "      <th>work_type</th>\n",
       "      <th>Residence_type</th>\n",
       "      <th>smoking_status</th>\n",
       "    </tr>\n",
       "  </thead>\n",
       "  <tbody>\n",
       "    <tr>\n",
       "      <th>0</th>\n",
       "      <td>Male</td>\n",
       "      <td>Yes</td>\n",
       "      <td>Private</td>\n",
       "      <td>Urban</td>\n",
       "      <td>formerly smoked</td>\n",
       "    </tr>\n",
       "    <tr>\n",
       "      <th>1</th>\n",
       "      <td>Female</td>\n",
       "      <td>Yes</td>\n",
       "      <td>Self-employed</td>\n",
       "      <td>Rural</td>\n",
       "      <td>never smoked</td>\n",
       "    </tr>\n",
       "    <tr>\n",
       "      <th>2</th>\n",
       "      <td>Male</td>\n",
       "      <td>Yes</td>\n",
       "      <td>Private</td>\n",
       "      <td>Rural</td>\n",
       "      <td>never smoked</td>\n",
       "    </tr>\n",
       "    <tr>\n",
       "      <th>3</th>\n",
       "      <td>Female</td>\n",
       "      <td>Yes</td>\n",
       "      <td>Private</td>\n",
       "      <td>Urban</td>\n",
       "      <td>smokes</td>\n",
       "    </tr>\n",
       "    <tr>\n",
       "      <th>4</th>\n",
       "      <td>Female</td>\n",
       "      <td>Yes</td>\n",
       "      <td>Self-employed</td>\n",
       "      <td>Rural</td>\n",
       "      <td>never smoked</td>\n",
       "    </tr>\n",
       "  </tbody>\n",
       "</table>\n",
       "</div>"
      ],
      "text/plain": [
       "   gender ever_married      work_type Residence_type   smoking_status\n",
       "0    Male          Yes        Private          Urban  formerly smoked\n",
       "1  Female          Yes  Self-employed          Rural     never smoked\n",
       "2    Male          Yes        Private          Rural     never smoked\n",
       "3  Female          Yes        Private          Urban           smokes\n",
       "4  Female          Yes  Self-employed          Rural     never smoked"
      ]
     },
     "execution_count": 20,
     "metadata": {},
     "output_type": "execute_result"
    }
   ],
   "source": [
    "df.select_dtypes(include=['object']).head()"
   ]
  },
  {
   "cell_type": "code",
   "execution_count": 21,
   "id": "dbdb7fc2",
   "metadata": {},
   "outputs": [
    {
     "data": {
      "text/html": [
       "<div>\n",
       "<style scoped>\n",
       "    .dataframe tbody tr th:only-of-type {\n",
       "        vertical-align: middle;\n",
       "    }\n",
       "\n",
       "    .dataframe tbody tr th {\n",
       "        vertical-align: top;\n",
       "    }\n",
       "\n",
       "    .dataframe thead th {\n",
       "        text-align: right;\n",
       "    }\n",
       "</style>\n",
       "<table border=\"1\" class=\"dataframe\">\n",
       "  <thead>\n",
       "    <tr style=\"text-align: right;\">\n",
       "      <th></th>\n",
       "      <th>gender_Male</th>\n",
       "      <th>ever_married_Yes</th>\n",
       "      <th>work_type_Never_worked</th>\n",
       "      <th>work_type_Private</th>\n",
       "      <th>work_type_Self-employed</th>\n",
       "      <th>work_type_children</th>\n",
       "      <th>Residence_type_Urban</th>\n",
       "      <th>smoking_status_formerly smoked</th>\n",
       "      <th>smoking_status_never smoked</th>\n",
       "      <th>smoking_status_smokes</th>\n",
       "    </tr>\n",
       "  </thead>\n",
       "  <tbody>\n",
       "    <tr>\n",
       "      <th>0</th>\n",
       "      <td>1.0</td>\n",
       "      <td>1.0</td>\n",
       "      <td>0.0</td>\n",
       "      <td>1.0</td>\n",
       "      <td>0.0</td>\n",
       "      <td>0.0</td>\n",
       "      <td>1.0</td>\n",
       "      <td>1.0</td>\n",
       "      <td>0.0</td>\n",
       "      <td>0.0</td>\n",
       "    </tr>\n",
       "    <tr>\n",
       "      <th>1</th>\n",
       "      <td>0.0</td>\n",
       "      <td>1.0</td>\n",
       "      <td>0.0</td>\n",
       "      <td>0.0</td>\n",
       "      <td>1.0</td>\n",
       "      <td>0.0</td>\n",
       "      <td>0.0</td>\n",
       "      <td>0.0</td>\n",
       "      <td>1.0</td>\n",
       "      <td>0.0</td>\n",
       "    </tr>\n",
       "    <tr>\n",
       "      <th>2</th>\n",
       "      <td>1.0</td>\n",
       "      <td>1.0</td>\n",
       "      <td>0.0</td>\n",
       "      <td>1.0</td>\n",
       "      <td>0.0</td>\n",
       "      <td>0.0</td>\n",
       "      <td>0.0</td>\n",
       "      <td>0.0</td>\n",
       "      <td>1.0</td>\n",
       "      <td>0.0</td>\n",
       "    </tr>\n",
       "    <tr>\n",
       "      <th>3</th>\n",
       "      <td>0.0</td>\n",
       "      <td>1.0</td>\n",
       "      <td>0.0</td>\n",
       "      <td>1.0</td>\n",
       "      <td>0.0</td>\n",
       "      <td>0.0</td>\n",
       "      <td>1.0</td>\n",
       "      <td>0.0</td>\n",
       "      <td>0.0</td>\n",
       "      <td>1.0</td>\n",
       "    </tr>\n",
       "    <tr>\n",
       "      <th>4</th>\n",
       "      <td>0.0</td>\n",
       "      <td>1.0</td>\n",
       "      <td>0.0</td>\n",
       "      <td>0.0</td>\n",
       "      <td>1.0</td>\n",
       "      <td>0.0</td>\n",
       "      <td>0.0</td>\n",
       "      <td>0.0</td>\n",
       "      <td>1.0</td>\n",
       "      <td>0.0</td>\n",
       "    </tr>\n",
       "    <tr>\n",
       "      <th>...</th>\n",
       "      <td>...</td>\n",
       "      <td>...</td>\n",
       "      <td>...</td>\n",
       "      <td>...</td>\n",
       "      <td>...</td>\n",
       "      <td>...</td>\n",
       "      <td>...</td>\n",
       "      <td>...</td>\n",
       "      <td>...</td>\n",
       "      <td>...</td>\n",
       "    </tr>\n",
       "    <tr>\n",
       "      <th>5104</th>\n",
       "      <td>0.0</td>\n",
       "      <td>1.0</td>\n",
       "      <td>0.0</td>\n",
       "      <td>1.0</td>\n",
       "      <td>0.0</td>\n",
       "      <td>0.0</td>\n",
       "      <td>1.0</td>\n",
       "      <td>0.0</td>\n",
       "      <td>1.0</td>\n",
       "      <td>0.0</td>\n",
       "    </tr>\n",
       "    <tr>\n",
       "      <th>5105</th>\n",
       "      <td>0.0</td>\n",
       "      <td>1.0</td>\n",
       "      <td>0.0</td>\n",
       "      <td>0.0</td>\n",
       "      <td>1.0</td>\n",
       "      <td>0.0</td>\n",
       "      <td>1.0</td>\n",
       "      <td>0.0</td>\n",
       "      <td>1.0</td>\n",
       "      <td>0.0</td>\n",
       "    </tr>\n",
       "    <tr>\n",
       "      <th>5106</th>\n",
       "      <td>0.0</td>\n",
       "      <td>1.0</td>\n",
       "      <td>0.0</td>\n",
       "      <td>0.0</td>\n",
       "      <td>1.0</td>\n",
       "      <td>0.0</td>\n",
       "      <td>0.0</td>\n",
       "      <td>0.0</td>\n",
       "      <td>1.0</td>\n",
       "      <td>0.0</td>\n",
       "    </tr>\n",
       "    <tr>\n",
       "      <th>5107</th>\n",
       "      <td>1.0</td>\n",
       "      <td>1.0</td>\n",
       "      <td>0.0</td>\n",
       "      <td>1.0</td>\n",
       "      <td>0.0</td>\n",
       "      <td>0.0</td>\n",
       "      <td>0.0</td>\n",
       "      <td>1.0</td>\n",
       "      <td>0.0</td>\n",
       "      <td>0.0</td>\n",
       "    </tr>\n",
       "    <tr>\n",
       "      <th>5108</th>\n",
       "      <td>0.0</td>\n",
       "      <td>1.0</td>\n",
       "      <td>0.0</td>\n",
       "      <td>0.0</td>\n",
       "      <td>0.0</td>\n",
       "      <td>0.0</td>\n",
       "      <td>1.0</td>\n",
       "      <td>0.0</td>\n",
       "      <td>0.0</td>\n",
       "      <td>0.0</td>\n",
       "    </tr>\n",
       "  </tbody>\n",
       "</table>\n",
       "<p>5109 rows × 10 columns</p>\n",
       "</div>"
      ],
      "text/plain": [
       "      gender_Male  ever_married_Yes  work_type_Never_worked  \\\n",
       "0             1.0               1.0                     0.0   \n",
       "1             0.0               1.0                     0.0   \n",
       "2             1.0               1.0                     0.0   \n",
       "3             0.0               1.0                     0.0   \n",
       "4             0.0               1.0                     0.0   \n",
       "...           ...               ...                     ...   \n",
       "5104          0.0               1.0                     0.0   \n",
       "5105          0.0               1.0                     0.0   \n",
       "5106          0.0               1.0                     0.0   \n",
       "5107          1.0               1.0                     0.0   \n",
       "5108          0.0               1.0                     0.0   \n",
       "\n",
       "      work_type_Private  work_type_Self-employed  work_type_children  \\\n",
       "0                   1.0                      0.0                 0.0   \n",
       "1                   0.0                      1.0                 0.0   \n",
       "2                   1.0                      0.0                 0.0   \n",
       "3                   1.0                      0.0                 0.0   \n",
       "4                   0.0                      1.0                 0.0   \n",
       "...                 ...                      ...                 ...   \n",
       "5104                1.0                      0.0                 0.0   \n",
       "5105                0.0                      1.0                 0.0   \n",
       "5106                0.0                      1.0                 0.0   \n",
       "5107                1.0                      0.0                 0.0   \n",
       "5108                0.0                      0.0                 0.0   \n",
       "\n",
       "      Residence_type_Urban  smoking_status_formerly smoked  \\\n",
       "0                      1.0                             1.0   \n",
       "1                      0.0                             0.0   \n",
       "2                      0.0                             0.0   \n",
       "3                      1.0                             0.0   \n",
       "4                      0.0                             0.0   \n",
       "...                    ...                             ...   \n",
       "5104                   1.0                             0.0   \n",
       "5105                   1.0                             0.0   \n",
       "5106                   0.0                             0.0   \n",
       "5107                   0.0                             1.0   \n",
       "5108                   1.0                             0.0   \n",
       "\n",
       "      smoking_status_never smoked  smoking_status_smokes  \n",
       "0                             0.0                    0.0  \n",
       "1                             1.0                    0.0  \n",
       "2                             1.0                    0.0  \n",
       "3                             0.0                    1.0  \n",
       "4                             1.0                    0.0  \n",
       "...                           ...                    ...  \n",
       "5104                          1.0                    0.0  \n",
       "5105                          1.0                    0.0  \n",
       "5106                          1.0                    0.0  \n",
       "5107                          0.0                    0.0  \n",
       "5108                          0.0                    0.0  \n",
       "\n",
       "[5109 rows x 10 columns]"
      ]
     },
     "execution_count": 21,
     "metadata": {},
     "output_type": "execute_result"
    }
   ],
   "source": [
    "# pd.get_dummies(data, prefix = \"work_type\", drop_first=True, dtype=int)\n",
    "categorical = df.select_dtypes(include=['object'])\n",
    "\n",
    "ohe = OneHotEncoder(drop='first')\n",
    "ohe.fit(categorical)\n",
    "categorical_encoded = pd.DataFrame(ohe.transform(categorical).todense(),\n",
    "                               columns=ohe.get_feature_names_out())\n",
    "categorical_encoded"
   ]
  },
  {
   "cell_type": "code",
   "execution_count": 22,
   "id": "4efee974",
   "metadata": {},
   "outputs": [
    {
     "data": {
      "text/html": [
       "<div>\n",
       "<style scoped>\n",
       "    .dataframe tbody tr th:only-of-type {\n",
       "        vertical-align: middle;\n",
       "    }\n",
       "\n",
       "    .dataframe tbody tr th {\n",
       "        vertical-align: top;\n",
       "    }\n",
       "\n",
       "    .dataframe thead th {\n",
       "        text-align: right;\n",
       "    }\n",
       "</style>\n",
       "<table border=\"1\" class=\"dataframe\">\n",
       "  <thead>\n",
       "    <tr style=\"text-align: right;\">\n",
       "      <th></th>\n",
       "      <th>age</th>\n",
       "      <th>hypertension</th>\n",
       "      <th>heart_disease</th>\n",
       "      <th>avg_glucose_level</th>\n",
       "      <th>bmi</th>\n",
       "      <th>stroke</th>\n",
       "    </tr>\n",
       "  </thead>\n",
       "  <tbody>\n",
       "    <tr>\n",
       "      <th>0</th>\n",
       "      <td>67.0</td>\n",
       "      <td>0</td>\n",
       "      <td>1</td>\n",
       "      <td>228.69</td>\n",
       "      <td>36.6</td>\n",
       "      <td>1</td>\n",
       "    </tr>\n",
       "    <tr>\n",
       "      <th>1</th>\n",
       "      <td>61.0</td>\n",
       "      <td>0</td>\n",
       "      <td>0</td>\n",
       "      <td>202.21</td>\n",
       "      <td>NaN</td>\n",
       "      <td>1</td>\n",
       "    </tr>\n",
       "    <tr>\n",
       "      <th>2</th>\n",
       "      <td>80.0</td>\n",
       "      <td>0</td>\n",
       "      <td>1</td>\n",
       "      <td>105.92</td>\n",
       "      <td>32.5</td>\n",
       "      <td>1</td>\n",
       "    </tr>\n",
       "    <tr>\n",
       "      <th>3</th>\n",
       "      <td>49.0</td>\n",
       "      <td>0</td>\n",
       "      <td>0</td>\n",
       "      <td>171.23</td>\n",
       "      <td>34.4</td>\n",
       "      <td>1</td>\n",
       "    </tr>\n",
       "    <tr>\n",
       "      <th>4</th>\n",
       "      <td>79.0</td>\n",
       "      <td>1</td>\n",
       "      <td>0</td>\n",
       "      <td>174.12</td>\n",
       "      <td>24.0</td>\n",
       "      <td>1</td>\n",
       "    </tr>\n",
       "  </tbody>\n",
       "</table>\n",
       "</div>"
      ],
      "text/plain": [
       "    age  hypertension  heart_disease  avg_glucose_level   bmi  stroke\n",
       "0  67.0             0              1             228.69  36.6       1\n",
       "1  61.0             0              0             202.21   NaN       1\n",
       "2  80.0             0              1             105.92  32.5       1\n",
       "3  49.0             0              0             171.23  34.4       1\n",
       "4  79.0             1              0             174.12  24.0       1"
      ]
     },
     "execution_count": 22,
     "metadata": {},
     "output_type": "execute_result"
    }
   ],
   "source": [
    "df_numeric = df.select_dtypes(\"number\")\n",
    "df_numeric.head()"
   ]
  },
  {
   "cell_type": "code",
   "execution_count": 23,
   "id": "76dc55f5",
   "metadata": {},
   "outputs": [],
   "source": [
    "# df_numeric.drop(\"stroke\", axis=1, inplace=True)"
   ]
  },
  {
   "cell_type": "code",
   "execution_count": 39,
   "id": "29dc6968",
   "metadata": {},
   "outputs": [
    {
     "data": {
      "text/html": [
       "<div>\n",
       "<style scoped>\n",
       "    .dataframe tbody tr th:only-of-type {\n",
       "        vertical-align: middle;\n",
       "    }\n",
       "\n",
       "    .dataframe tbody tr th {\n",
       "        vertical-align: top;\n",
       "    }\n",
       "\n",
       "    .dataframe thead th {\n",
       "        text-align: right;\n",
       "    }\n",
       "</style>\n",
       "<table border=\"1\" class=\"dataframe\">\n",
       "  <thead>\n",
       "    <tr style=\"text-align: right;\">\n",
       "      <th></th>\n",
       "      <th>gender_Male</th>\n",
       "      <th>ever_married_Yes</th>\n",
       "      <th>work_type_Never_worked</th>\n",
       "      <th>work_type_Private</th>\n",
       "      <th>work_type_Self-employed</th>\n",
       "      <th>work_type_children</th>\n",
       "      <th>Residence_type_Urban</th>\n",
       "      <th>smoking_status_formerly smoked</th>\n",
       "      <th>smoking_status_never smoked</th>\n",
       "      <th>smoking_status_smokes</th>\n",
       "      <th>age</th>\n",
       "      <th>hypertension</th>\n",
       "      <th>heart_disease</th>\n",
       "      <th>avg_glucose_level</th>\n",
       "      <th>bmi</th>\n",
       "      <th>stroke</th>\n",
       "    </tr>\n",
       "  </thead>\n",
       "  <tbody>\n",
       "    <tr>\n",
       "      <th>0</th>\n",
       "      <td>1.0</td>\n",
       "      <td>1.0</td>\n",
       "      <td>0.0</td>\n",
       "      <td>1.0</td>\n",
       "      <td>0.0</td>\n",
       "      <td>0.0</td>\n",
       "      <td>1.0</td>\n",
       "      <td>1.0</td>\n",
       "      <td>0.0</td>\n",
       "      <td>0.0</td>\n",
       "      <td>67.0</td>\n",
       "      <td>0</td>\n",
       "      <td>1</td>\n",
       "      <td>228.69</td>\n",
       "      <td>36.6</td>\n",
       "      <td>1</td>\n",
       "    </tr>\n",
       "    <tr>\n",
       "      <th>1</th>\n",
       "      <td>0.0</td>\n",
       "      <td>1.0</td>\n",
       "      <td>0.0</td>\n",
       "      <td>0.0</td>\n",
       "      <td>1.0</td>\n",
       "      <td>0.0</td>\n",
       "      <td>0.0</td>\n",
       "      <td>0.0</td>\n",
       "      <td>1.0</td>\n",
       "      <td>0.0</td>\n",
       "      <td>61.0</td>\n",
       "      <td>0</td>\n",
       "      <td>0</td>\n",
       "      <td>202.21</td>\n",
       "      <td>NaN</td>\n",
       "      <td>1</td>\n",
       "    </tr>\n",
       "    <tr>\n",
       "      <th>2</th>\n",
       "      <td>1.0</td>\n",
       "      <td>1.0</td>\n",
       "      <td>0.0</td>\n",
       "      <td>1.0</td>\n",
       "      <td>0.0</td>\n",
       "      <td>0.0</td>\n",
       "      <td>0.0</td>\n",
       "      <td>0.0</td>\n",
       "      <td>1.0</td>\n",
       "      <td>0.0</td>\n",
       "      <td>80.0</td>\n",
       "      <td>0</td>\n",
       "      <td>1</td>\n",
       "      <td>105.92</td>\n",
       "      <td>32.5</td>\n",
       "      <td>1</td>\n",
       "    </tr>\n",
       "    <tr>\n",
       "      <th>3</th>\n",
       "      <td>0.0</td>\n",
       "      <td>1.0</td>\n",
       "      <td>0.0</td>\n",
       "      <td>1.0</td>\n",
       "      <td>0.0</td>\n",
       "      <td>0.0</td>\n",
       "      <td>1.0</td>\n",
       "      <td>0.0</td>\n",
       "      <td>0.0</td>\n",
       "      <td>1.0</td>\n",
       "      <td>49.0</td>\n",
       "      <td>0</td>\n",
       "      <td>0</td>\n",
       "      <td>171.23</td>\n",
       "      <td>34.4</td>\n",
       "      <td>1</td>\n",
       "    </tr>\n",
       "    <tr>\n",
       "      <th>4</th>\n",
       "      <td>0.0</td>\n",
       "      <td>1.0</td>\n",
       "      <td>0.0</td>\n",
       "      <td>0.0</td>\n",
       "      <td>1.0</td>\n",
       "      <td>0.0</td>\n",
       "      <td>0.0</td>\n",
       "      <td>0.0</td>\n",
       "      <td>1.0</td>\n",
       "      <td>0.0</td>\n",
       "      <td>79.0</td>\n",
       "      <td>1</td>\n",
       "      <td>0</td>\n",
       "      <td>174.12</td>\n",
       "      <td>24.0</td>\n",
       "      <td>1</td>\n",
       "    </tr>\n",
       "  </tbody>\n",
       "</table>\n",
       "</div>"
      ],
      "text/plain": [
       "   gender_Male  ever_married_Yes  work_type_Never_worked  work_type_Private  \\\n",
       "0          1.0               1.0                     0.0                1.0   \n",
       "1          0.0               1.0                     0.0                0.0   \n",
       "2          1.0               1.0                     0.0                1.0   \n",
       "3          0.0               1.0                     0.0                1.0   \n",
       "4          0.0               1.0                     0.0                0.0   \n",
       "\n",
       "   work_type_Self-employed  work_type_children  Residence_type_Urban  \\\n",
       "0                      0.0                 0.0                   1.0   \n",
       "1                      1.0                 0.0                   0.0   \n",
       "2                      0.0                 0.0                   0.0   \n",
       "3                      0.0                 0.0                   1.0   \n",
       "4                      1.0                 0.0                   0.0   \n",
       "\n",
       "   smoking_status_formerly smoked  smoking_status_never smoked  \\\n",
       "0                             1.0                          0.0   \n",
       "1                             0.0                          1.0   \n",
       "2                             0.0                          1.0   \n",
       "3                             0.0                          0.0   \n",
       "4                             0.0                          1.0   \n",
       "\n",
       "   smoking_status_smokes   age  hypertension  heart_disease  \\\n",
       "0                    0.0  67.0             0              1   \n",
       "1                    0.0  61.0             0              0   \n",
       "2                    0.0  80.0             0              1   \n",
       "3                    1.0  49.0             0              0   \n",
       "4                    0.0  79.0             1              0   \n",
       "\n",
       "   avg_glucose_level   bmi  stroke  \n",
       "0             228.69  36.6       1  \n",
       "1             202.21   NaN       1  \n",
       "2             105.92  32.5       1  \n",
       "3             171.23  34.4       1  \n",
       "4             174.12  24.0       1  "
      ]
     },
     "execution_count": 39,
     "metadata": {},
     "output_type": "execute_result"
    }
   ],
   "source": [
    "df_new = pd.concat([categorical_encoded.reset_index(), df_numeric.reset_index()], axis=1)\n",
    "df_new.drop(\"index\", axis=1, inplace=True)\n",
    "df_new.head()"
   ]
  },
  {
   "cell_type": "markdown",
   "id": "514b40d8",
   "metadata": {},
   "source": [
    "Now that the dataset is all numeric, we can use the KNNImputer tool to replace the null values in the BMI column. This should give us a better result than simply using the mean, median, or most frequent."
   ]
  },
  {
   "cell_type": "code",
   "execution_count": 40,
   "id": "7921d90c",
   "metadata": {},
   "outputs": [
    {
     "name": "stdout",
     "output_type": "stream",
     "text": [
      "Best Parameters:\n",
      "{'n_neighbors': 1}\n"
     ]
    }
   ],
   "source": [
    "# Split the data into features and target\n",
    "X = df_new.drop('bmi', axis=1)\n",
    "y = df_new['bmi']\n",
    "\n",
    "# Split the data into training and testing sets\n",
    "X_train, X_test, y_train, y_test = train_test_split(X, y, test_size=0.2, random_state=42)\n",
    "\n",
    "# Set up the KNNImputer and grid search\n",
    "param_grid = {'n_neighbors': [1, 2, 3, 4, 5]}\n",
    "knn_imputer = KNNImputer()\n",
    "grid_search = GridSearchCV(knn_imputer, param_grid, cv=5, scoring='neg_mean_squared_error')\n",
    "\n",
    "# Fit the grid search to the training data\n",
    "grid_search.fit(X_train, y_train)\n",
    "\n",
    "# Get the best parameters, including the best number of neighbors (k)\n",
    "best_params = grid_search.best_params_\n",
    "best_neighbors = best_params['n_neighbors']\n",
    "\n",
    "# Print the best parameters\n",
    "print(\"Best Parameters:\")\n",
    "print(best_params)"
   ]
  },
  {
   "cell_type": "code",
   "execution_count": 41,
   "id": "e296b726",
   "metadata": {},
   "outputs": [],
   "source": [
    "from sklearn.impute import KNNImputer\n",
    "from sklearn.metrics import mean_squared_error\n",
    "\n",
    "knn_imputer = KNNImputer(n_neighbors=1)  # Adjust the number of neighbors as needed\n",
    "\n",
    "# Impute missing values in the DataFrame\n",
    "df_imputed = pd.DataFrame(knn_imputer.fit_transform(df_new), columns=df_new.columns)"
   ]
  },
  {
   "cell_type": "code",
   "execution_count": 42,
   "id": "87cd508f",
   "metadata": {},
   "outputs": [
    {
     "data": {
      "text/plain": [
       "False"
      ]
     },
     "execution_count": 42,
     "metadata": {},
     "output_type": "execute_result"
    }
   ],
   "source": [
    "df_imputed.isnull().values.any()"
   ]
  },
  {
   "cell_type": "markdown",
   "id": "a7a7d363",
   "metadata": {},
   "source": [
    "## Model Training\n",
    "\n",
    "Now that the dataset is cleaned, we can begin comparing the performance of various models. Since this is a binary classification problem, we'll try the following models:\n",
    "- Logistic regression\n",
    "- K Nearest Neighbor classifier\n",
    "- Decision Tree Classifier\n",
    "- Random Forest Classifier\n",
    "\n",
    "We'll also use SMOTE to oversample our minority class and create a more balanced dataset for our target variable. This should help our model better predict when someone has actually experienced a stroke."
   ]
  },
  {
   "cell_type": "markdown",
   "id": "0b0fc2b7",
   "metadata": {},
   "source": [
    "### Model 1: Logistic Regression"
   ]
  },
  {
   "cell_type": "code",
   "execution_count": 48,
   "id": "ca59dca7",
   "metadata": {},
   "outputs": [
    {
     "name": "stdout",
     "output_type": "stream",
     "text": [
      "Recall: 0.7625\n",
      "Test Accuracy: 0.7425665101721439\n",
      "Train Accuracy: 0.7876843255051884\n",
      "Confusion Matrix:\n",
      "[[0.74123539 0.25876461]\n",
      " [0.2375     0.7625    ]]\n"
     ]
    }
   ],
   "source": [
    "X = df_imputed.drop(\"stroke\", axis=1)\n",
    "y = df_imputed[\"stroke\"]\n",
    "\n",
    "X_train, X_test, y_train, y_test = train_test_split(X, y, test_size=0.25, random_state=42)\n",
    "\n",
    "smote = SMOTE(random_state=42)\n",
    "\n",
    "X_train_resampled, y_train_resampled = smote.fit_resample(X_train, y_train)\n",
    "\n",
    "scaler = StandardScaler()\n",
    "X_train_scaled = scaler.fit_transform(X_train_resampled)\n",
    "X_test_scaled = scaler.transform(X_test)\n",
    "\n",
    "lr_model = LogisticRegression(\n",
    "            penalty='l2',\n",
    "            C=.3,             # Smaller values -> more regularization\n",
    "            solver='liblinear',    # (Default) Can optimize depending on problem \n",
    "            random_state=42\n",
    ")\n",
    "\n",
    "# Fit/Train the model\n",
    "lr_model.fit(X_train_scaled, y_train_resampled)\n",
    "\n",
    "y_pred = lr_model.predict(X_test_scaled)\n",
    "y_pred_train = lr_model.predict(X_train_scaled)\n",
    "test_recall = recall_score(y_test, y_pred)\n",
    "train_accuracy = accuracy_score(y_train_resampled, y_pred_train)\n",
    "test_accuracy = accuracy_score(y_test, y_pred)\n",
    "conf_matrix = confusion_matrix(y_test, y_pred, normalize='true')\n",
    "\n",
    "print(f\"Recall: {test_recall}\")\n",
    "print(f\"Test Accuracy: {test_accuracy}\")\n",
    "print(f\"Train Accuracy: {train_accuracy}\")\n",
    "print(\"Confusion Matrix:\")\n",
    "print(conf_matrix)"
   ]
  },
  {
   "cell_type": "markdown",
   "id": "66a4caf9",
   "metadata": {},
   "source": [
    "Our logistic regression model was decent at predicting both stroke and non-strokes, with a recall of around 76%. This is not bad, let's use cross-validation to get an understanding of test and train accuracy. "
   ]
  },
  {
   "cell_type": "code",
   "execution_count": 49,
   "id": "0b083637",
   "metadata": {},
   "outputs": [
    {
     "name": "stdout",
     "output_type": "stream",
     "text": [
      "0.7882\n",
      "0.786\n"
     ]
    }
   ],
   "source": [
    "cv_results = cross_validate(\n",
    "                    estimator=lr_model,\n",
    "                    X=X_train_scaled,\n",
    "                    y=y_train_resampled,\n",
    "                    cv=10,\n",
    "                    return_train_score=True\n",
    ")\n",
    "\n",
    "print(round(cv_results['train_score'].mean(),4))\n",
    "print(round(cv_results['test_score'].mean(),4))"
   ]
  },
  {
   "cell_type": "markdown",
   "id": "146e7b96",
   "metadata": {},
   "source": [
    "Our logistic regression model seems to be fitting well, with around 79% accuracy in both the test and train datasets. "
   ]
  },
  {
   "cell_type": "markdown",
   "id": "3b95eb3e",
   "metadata": {},
   "source": [
    "### Model 2: KNeighborsClassifier"
   ]
  },
  {
   "cell_type": "code",
   "execution_count": 50,
   "id": "e65178ff",
   "metadata": {},
   "outputs": [
    {
     "name": "stdout",
     "output_type": "stream",
     "text": [
      "0.9375\n",
      "Recall: 0.1\n",
      "Test Accuracy: 0.9100156494522692\n",
      "Train Accuracy: 0.9993173129437466\n",
      "Confusion Matrix:\n",
      "[[0.96410684 0.03589316]\n",
      " [0.9        0.1       ]]\n"
     ]
    }
   ],
   "source": [
    "knn = KNeighborsClassifier(2)\n",
    "\n",
    "knn.fit(X_train_scaled, y_train_resampled)\n",
    "\n",
    "scores = cross_val_score(knn, X_test_scaled, y_test, cv=5)\n",
    "\n",
    "print(np.median(scores))\n",
    "\n",
    "y_pred = knn.predict(X_test_scaled)\n",
    "y_pred_train = knn.predict(X_train_scaled)\n",
    "test_recall = recall_score(y_test, y_pred)\n",
    "train_accuracy = accuracy_score(y_train_resampled, y_pred_train)\n",
    "test_accuracy = accuracy_score(y_test, y_pred)\n",
    "conf_matrix = confusion_matrix(y_test, y_pred, normalize='true')\n",
    "\n",
    "print(f\"Recall: {test_recall}\")\n",
    "print(f\"Test Accuracy: {test_accuracy}\")\n",
    "print(f\"Train Accuracy: {train_accuracy}\")\n",
    "print(\"Confusion Matrix:\")\n",
    "print(conf_matrix)"
   ]
  },
  {
   "cell_type": "markdown",
   "id": "140ca512",
   "metadata": {},
   "source": [
    "Our k-nearest neighbors regression model was good at predicting non-stroke patients (96.4% correct) and not so good at predicting stroke patients (only 10% correct), with a recall of 10%. This is not great if we are mainly concerned with predicting strokes (which we are). "
   ]
  },
  {
   "cell_type": "code",
   "execution_count": 51,
   "id": "c7bdea1d",
   "metadata": {},
   "outputs": [
    {
     "name": "stdout",
     "output_type": "stream",
     "text": [
      "0.999\n",
      "0.9738\n"
     ]
    }
   ],
   "source": [
    "cv_results = cross_validate(\n",
    "                    estimator=knn,\n",
    "                    X=X_train_scaled,\n",
    "                    y=y_train_resampled,\n",
    "                    cv=10,\n",
    "                    return_train_score=True\n",
    ")\n",
    "\n",
    "print(round(cv_results['train_score'].mean(),4))\n",
    "print(round(cv_results['test_score'].mean(),4))"
   ]
  },
  {
   "cell_type": "markdown",
   "id": "6bd56b9d",
   "metadata": {},
   "source": [
    "The model appears to be overfitting, with a near perfect score on the training data (99.9%). However, the test data score is also good at 97.4%."
   ]
  },
  {
   "cell_type": "markdown",
   "id": "1a13369a",
   "metadata": {},
   "source": [
    "### Model 3: Decision Tree Classifier"
   ]
  },
  {
   "cell_type": "code",
   "execution_count": 52,
   "id": "fe55c386",
   "metadata": {},
   "outputs": [
    {
     "name": "stdout",
     "output_type": "stream",
     "text": [
      "Recall: 0.1125\n",
      "Test Accuracy: 0.9014084507042254\n",
      "Train Accuracy: 1.0\n",
      "Confusion Matrix:\n",
      "[[0.95409015 0.04590985]\n",
      " [0.8875     0.1125    ]]\n"
     ]
    }
   ],
   "source": [
    "dt = DecisionTreeClassifier(random_state=42, criterion=\"gini\")\n",
    "dt.fit(X_train_scaled, y_train_resampled)\n",
    "\n",
    "y_pred = dt.predict(X_test_scaled)\n",
    "y_pred_train = dt.predict(X_train_scaled)\n",
    "test_recall = recall_score(y_test, y_pred)\n",
    "train_accuracy = accuracy_score(y_train_resampled, y_pred_train)\n",
    "test_accuracy = accuracy_score(y_test, y_pred)\n",
    "conf_matrix = confusion_matrix(y_test, y_pred, normalize='true')\n",
    "\n",
    "print(f\"Recall: {test_recall}\")\n",
    "print(f\"Test Accuracy: {test_accuracy}\")\n",
    "print(f\"Train Accuracy: {train_accuracy}\")\n",
    "print(\"Confusion Matrix:\")\n",
    "print(conf_matrix)"
   ]
  },
  {
   "cell_type": "markdown",
   "id": "9165096b",
   "metadata": {},
   "source": [
    "Like our k-nearest neighbors regression model, our decision tree was good at predicting non-stroke patients (95.4% correct) and not so good at predicting stroke patients (only 11.3% correct), with a recall of 11.5%. This is not great if we are mainly concerned with predicting strokes (which we are)."
   ]
  },
  {
   "cell_type": "code",
   "execution_count": 53,
   "id": "bb35d5c3",
   "metadata": {},
   "outputs": [
    {
     "name": "stdout",
     "output_type": "stream",
     "text": [
      "1.0\n",
      "0.9488\n"
     ]
    }
   ],
   "source": [
    "cv_results = cross_validate(\n",
    "                    estimator=dt,\n",
    "                    X=X_train_scaled,\n",
    "                    y=y_train_resampled,\n",
    "                    cv=10,\n",
    "                    return_train_score=True\n",
    ")\n",
    "\n",
    "print(round(cv_results['train_score'].mean(),4))\n",
    "print(round(cv_results['test_score'].mean(),4))"
   ]
  },
  {
   "cell_type": "markdown",
   "id": "4cf605e1",
   "metadata": {},
   "source": [
    "Again, the model is overfitting, this time with a perfect score on the training data (100%). However, the test data score is basically as good as guessing non-stroke (0) every time (94.9%)."
   ]
  },
  {
   "cell_type": "code",
   "execution_count": 55,
   "id": "2073936e",
   "metadata": {},
   "outputs": [
    {
     "data": {
      "text/plain": [
       "stroke\n",
       "0.0    0.951262\n",
       "1.0    0.048738\n",
       "Name: proportion, dtype: float64"
      ]
     },
     "execution_count": 55,
     "metadata": {},
     "output_type": "execute_result"
    }
   ],
   "source": [
    "y.value_counts(normalize=True)"
   ]
  },
  {
   "cell_type": "markdown",
   "id": "936d90f0",
   "metadata": {},
   "source": [
    "### Model 4: Random Forest"
   ]
  },
  {
   "cell_type": "code",
   "execution_count": 56,
   "id": "eef1b1af",
   "metadata": {},
   "outputs": [
    {
     "name": "stdout",
     "output_type": "stream",
     "text": [
      "Recall: 0.0625\n",
      "Test Accuracy: 0.9342723004694836\n",
      "Train Accuracy: 0.9964500273074822\n",
      "Confusion Matrix:\n",
      "[[0.99248748 0.00751252]\n",
      " [0.9375     0.0625    ]]\n"
     ]
    }
   ],
   "source": [
    "rf = RandomForestClassifier(\n",
    "    n_estimators=10,\n",
    "    criterion='gini',\n",
    "    random_state=42,\n",
    ")\n",
    "rf.fit(X_train_scaled, y_train_resampled)\n",
    "\n",
    "y_pred = rf.predict(X_test_scaled)\n",
    "y_pred_train = rf.predict(X_train_scaled)\n",
    "test_recall = recall_score(y_test, y_pred)\n",
    "train_accuracy = accuracy_score(y_train_resampled, y_pred_train)\n",
    "test_accuracy = accuracy_score(y_test, y_pred)\n",
    "conf_matrix = confusion_matrix(y_test, y_pred, normalize='true')\n",
    "\n",
    "print(f\"Recall: {test_recall}\")\n",
    "print(f\"Test Accuracy: {test_accuracy}\")\n",
    "print(f\"Train Accuracy: {train_accuracy}\")\n",
    "print(\"Confusion Matrix:\")\n",
    "print(conf_matrix)"
   ]
  },
  {
   "cell_type": "markdown",
   "id": "babd03b7",
   "metadata": {},
   "source": [
    "We expected this model to perform the best, but it is similar to the decision tree. From the above, we can see that it is accurately predicting the non-stokes, while poorly predicting strokes. It is also overfitting to the training data. "
   ]
  },
  {
   "cell_type": "code",
   "execution_count": 57,
   "id": "179ff8fd",
   "metadata": {},
   "outputs": [
    {
     "name": "stdout",
     "output_type": "stream",
     "text": [
      "Best Parameters: {'criterion': 'gini', 'max_depth': None, 'max_features': 'sqrt', 'min_samples_leaf': 1, 'min_samples_split': 4, 'n_estimators': 100}\n",
      "Best Recall Score: 0.9565577497968526\n",
      "Best Accuracy Score: 0.9754259684067215\n",
      "Test Recall Score: 0.0375\n",
      "Test Accuracy Score: 0.9389671361502347\n"
     ]
    }
   ],
   "source": [
    "# Define the parameter grid\n",
    "param_grid = {\n",
    "    'n_estimators': [5, 10, 50, 100],\n",
    "    'criterion': ['gini'],\n",
    "    'max_depth': [None, 3, 5, 10],\n",
    "    'min_samples_split': [4, 5, 6],\n",
    "    'min_samples_leaf': [1],\n",
    "    'max_features': ['sqrt']\n",
    "}\n",
    "\n",
    "# Define the scoring metrics (recall and accuracy)\n",
    "scoring = {\n",
    "    'Recall': make_scorer(recall_score),\n",
    "    'Accuracy': make_scorer(accuracy_score)\n",
    "}\n",
    "\n",
    "# Create the GridSearchCV object\n",
    "grid_search = GridSearchCV(\n",
    "    estimator=rf,\n",
    "    param_grid=param_grid,\n",
    "    scoring=scoring,\n",
    "    refit='Recall',  # The metric to use for choosing the best parameters\n",
    "    cv=5,  # Number of cross-validation folds\n",
    "    verbose=0  # Increase verbosity for more details\n",
    ")\n",
    "\n",
    "# Fit the grid search to the data\n",
    "grid_search.fit(X_train_scaled, y_train_resampled)\n",
    "\n",
    "# Print the best parameters and corresponding scores\n",
    "print(\"Best Parameters:\", grid_search.best_params_)\n",
    "print(\"Best Recall Score:\", grid_search.best_score_)\n",
    "print(\"Best Accuracy Score:\", grid_search.cv_results_['mean_test_Accuracy'][grid_search.best_index_])\n",
    "\n",
    "# Evaluate the model on the test set using the best parameters\n",
    "best_model = grid_search.best_estimator_\n",
    "y_pred = best_model.predict(X_test_scaled)\n",
    "test_recall = recall_score(y_test, y_pred)\n",
    "test_accuracy = accuracy_score(y_test, y_pred)\n",
    "\n",
    "print(\"Test Recall Score:\", test_recall)\n",
    "print(\"Test Accuracy Score:\", test_accuracy)\n"
   ]
  },
  {
   "cell_type": "code",
   "execution_count": 58,
   "id": "874bf229",
   "metadata": {},
   "outputs": [
    {
     "name": "stdout",
     "output_type": "stream",
     "text": [
      "Recall: 0.0375\n",
      "Test Accuracy: 0.9389671361502347\n",
      "Train Accuracy: 0.9957673402512288\n",
      "Confusion Matrix:\n",
      "[[1197    1]\n",
      " [  77    3]]\n"
     ]
    }
   ],
   "source": [
    "best_recall_model = RandomForestClassifier(\n",
    "    criterion='gini',\n",
    "    max_depth=None,\n",
    "    max_features='sqrt',\n",
    "    min_samples_leaf=1,\n",
    "    min_samples_split=4,\n",
    "    n_estimators=100,\n",
    "    random_state=42  # Make sure to set the random state for reproducibility\n",
    ")\n",
    "\n",
    "# Fit the model to your entire training dataset\n",
    "best_recall_model.fit(X_train_scaled, y_train_resampled)\n",
    "\n",
    "# using best_recall_model for predictions on new data\n",
    "y_pred = best_recall_model.predict(X_test_scaled)\n",
    "y_pred_train = best_recall_model.predict(X_train_scaled)\n",
    "test_recall = recall_score(y_test, y_pred)\n",
    "train_accuracy = accuracy_score(y_train_resampled, y_pred_train)\n",
    "test_accuracy = accuracy_score(y_test, y_pred)\n",
    "conf_matrix = confusion_matrix(y_test, y_pred)\n",
    "\n",
    "print(f\"Recall: {test_recall}\")\n",
    "print(f\"Test Accuracy: {test_accuracy}\")\n",
    "print(f\"Train Accuracy: {train_accuracy}\")\n",
    "print(\"Confusion Matrix:\")\n",
    "print(conf_matrix)"
   ]
  },
  {
   "cell_type": "markdown",
   "id": "fbfe77c7",
   "metadata": {},
   "source": [
    "Adjusting our parameters does not help much either. "
   ]
  },
  {
   "cell_type": "markdown",
   "id": "3821e02e",
   "metadata": {},
   "source": [
    "## Picking the best model"
   ]
  },
  {
   "cell_type": "markdown",
   "id": "66979126",
   "metadata": {},
   "source": [
    "Given our business problem -- performing inferential statistics on stroke patients for a government awareness campaign -- we are mostly interested in patients **who HAVE experienced a stroke**. Therefore, the best model for us appears to be the **logistic regression model**. Let's finally tune the model using grid_search to get the optimal parameters. "
   ]
  },
  {
   "cell_type": "code",
   "execution_count": 86,
   "id": "7b623892",
   "metadata": {},
   "outputs": [
    {
     "name": "stdout",
     "output_type": "stream",
     "text": [
      "Best Parameters: {'C': 0.01, 'class_weight': None, 'max_iter': 100, 'penalty': 'l2', 'solver': 'liblinear'}\n",
      "Best Recall Score: 0.7916440067886384\n",
      "Best Accuracy Score: 0.7916440067886384\n",
      "Test Recall Score: 0.75\n",
      "Test Accuracy Score: 0.7386541471048513\n"
     ]
    }
   ],
   "source": [
    "# Define the parameter grid\n",
    "param_grid = {\n",
    "    'penalty': ['l1', 'l2', 'elasticnet'],\n",
    "    'C': [0.001, 0.01, 0.1, 1, 10, 100],\n",
    "    'solver': ['newton-cg', 'lbfgs', 'liblinear', 'sag', 'saga'],\n",
    "    'max_iter': [100, 500, 1000],\n",
    "    'class_weight': [None, 'balanced']\n",
    "}\n",
    "\n",
    "# Define the scoring metrics (recall and accuracy)\n",
    "scoring = {\n",
    "    'Accuracy': make_scorer(accuracy_score)\n",
    "}\n",
    "\n",
    "# Create the GridSearchCV object\n",
    "grid_search = GridSearchCV(\n",
    "    estimator=lr_model,\n",
    "    param_grid=param_grid,\n",
    "    scoring=scoring,\n",
    "    refit='Accuracy',\n",
    "    cv=5,  # Number of cross-validation folds\n",
    "    verbose=0  # Increase verbosity for more details\n",
    ")\n",
    "\n",
    "# Fit the grid search to the data\n",
    "grid_search.fit(X_train_scaled, y_train_resampled)\n",
    "\n",
    "# Print the best parameters and corresponding scores\n",
    "print(\"Best Parameters:\", grid_search.best_params_)\n",
    "print(\"Best Recall Score:\", grid_search.best_score_)\n",
    "print(\"Best Accuracy Score:\", grid_search.cv_results_['mean_test_Accuracy'][grid_search.best_index_])\n",
    "\n",
    "# Evaluate the model on the test set using the best parameters\n",
    "best_model = grid_search.best_estimator_\n",
    "y_pred = best_model.predict(X_test_scaled)\n",
    "test_recall = recall_score(y_test, y_pred)\n",
    "test_accuracy = accuracy_score(y_test, y_pred)\n",
    "\n",
    "print(\"Test Recall Score:\", test_recall)\n",
    "print(\"Test Accuracy Score:\", test_accuracy)"
   ]
  },
  {
   "cell_type": "code",
   "execution_count": 91,
   "id": "567f47d2",
   "metadata": {},
   "outputs": [
    {
     "name": "stdout",
     "output_type": "stream",
     "text": [
      "Recall: 0.75\n",
      "Test Accuracy: 0.7386541471048513\n",
      "Train Accuracy: 0.7906881485527034\n",
      "Confusion Matrix:\n",
      "[[884 314]\n",
      " [ 20  60]]\n"
     ]
    }
   ],
   "source": [
    "best_model = LogisticRegression(\n",
    "    penalty='l2',\n",
    "    C=0.01,\n",
    "    class_weight=None,\n",
    "    max_iter=100,\n",
    "    solver='liblinear',\n",
    "    random_state=42  # Make sure to set the random state for reproducibility\n",
    ")\n",
    "\n",
    "# Fit the model to your entire training dataset\n",
    "best_model.fit(X_train_scaled, y_train_resampled)\n",
    "\n",
    "# using best_recall_model for predictions on new data\n",
    "y_pred = best_model.predict(X_test_scaled)\n",
    "y_pred_train = best_model.predict(X_train_scaled)\n",
    "test_recall = recall_score(y_test, y_pred)\n",
    "train_accuracy = accuracy_score(y_train_resampled, y_pred_train)\n",
    "test_accuracy = accuracy_score(y_test, y_pred)\n",
    "conf_matrix = confusion_matrix(y_test, y_pred)\n",
    "\n",
    "print(f\"Recall: {test_recall}\")\n",
    "print(f\"Test Accuracy: {test_accuracy}\")\n",
    "print(f\"Train Accuracy: {train_accuracy}\")\n",
    "print(\"Confusion Matrix:\")\n",
    "print(conf_matrix)"
   ]
  },
  {
   "cell_type": "markdown",
   "id": "236e8576",
   "metadata": {},
   "source": [
    "The above model gives us the best test score with a fairly good recall (75%), which is our main focus. The Test Accuracy is around 73.9% which is decent, but our recall makes up for it, correctly predicting our stroke patients in our test set 75% of the time! "
   ]
  },
  {
   "cell_type": "markdown",
   "id": "4862f792",
   "metadata": {},
   "source": [
    "Just for experimentation --  let's try one last model: a voting classifier."
   ]
  },
  {
   "cell_type": "code",
   "execution_count": 92,
   "id": "b69f21d8",
   "metadata": {},
   "outputs": [
    {
     "name": "stdout",
     "output_type": "stream",
     "text": [
      "0.9375\n",
      "Recall: 0.625\n",
      "Test Accuracy: 0.8075117370892019\n",
      "Train Accuracy: 0.8824412889131622\n",
      "Confusion Matrix:\n",
      "[[0.8196995 0.1803005]\n",
      " [0.375     0.625    ]]\n"
     ]
    }
   ],
   "source": [
    "w_avg = VotingClassifier(estimators=[\n",
    "    ('lr', best_model),\n",
    "    ('knn', knn),\n",
    "    ('rf', best_recall_model)\n",
    "    ],\n",
    "    voting='soft',\n",
    "    weights=[10, 2, 1])\n",
    "w_avg.fit(X_train_scaled, y_train_resampled)\n",
    "\n",
    "scores = cross_val_score(w_avg, X_test_scaled, y_test, cv=5)\n",
    "\n",
    "print(np.median(scores))\n",
    "\n",
    "y_pred = w_avg.predict(X_test_scaled)\n",
    "y_pred_train = w_avg.predict(X_train_scaled)\n",
    "test_recall = recall_score(y_test, y_pred)\n",
    "train_accuracy = accuracy_score(y_train_resampled, y_pred_train)\n",
    "test_accuracy = accuracy_score(y_test, y_pred)\n",
    "conf_matrix = confusion_matrix(y_test, y_pred, normalize='true')\n",
    "\n",
    "print(f\"Recall: {test_recall}\")\n",
    "print(f\"Test Accuracy: {test_accuracy}\")\n",
    "print(f\"Train Accuracy: {train_accuracy}\")\n",
    "print(\"Confusion Matrix:\")\n",
    "print(conf_matrix)"
   ]
  },
  {
   "cell_type": "markdown",
   "id": "821896e0",
   "metadata": {},
   "source": [
    "The results here capture a significant more of our data, which could be useful if we were most concerned with a better F2 score, but since our focus is recall, we're going to stick with the logistic regression model."
   ]
  },
  {
   "cell_type": "markdown",
   "id": "d1326076",
   "metadata": {},
   "source": [
    "## Feature importance"
   ]
  },
  {
   "cell_type": "code",
   "execution_count": 93,
   "id": "a1658a82",
   "metadata": {},
   "outputs": [
    {
     "name": "stdout",
     "output_type": "stream",
     "text": [
      "Feature Importance:\n"
     ]
    },
    {
     "data": {
      "text/html": [
       "<div>\n",
       "<style scoped>\n",
       "    .dataframe tbody tr th:only-of-type {\n",
       "        vertical-align: middle;\n",
       "    }\n",
       "\n",
       "    .dataframe tbody tr th {\n",
       "        vertical-align: top;\n",
       "    }\n",
       "\n",
       "    .dataframe thead th {\n",
       "        text-align: right;\n",
       "    }\n",
       "</style>\n",
       "<table border=\"1\" class=\"dataframe\">\n",
       "  <thead>\n",
       "    <tr style=\"text-align: right;\">\n",
       "      <th></th>\n",
       "      <th>Feature</th>\n",
       "      <th>Coefficient</th>\n",
       "      <th>Odds Ratio</th>\n",
       "    </tr>\n",
       "  </thead>\n",
       "  <tbody>\n",
       "    <tr>\n",
       "      <th>10</th>\n",
       "      <td>age</td>\n",
       "      <td>2.011813</td>\n",
       "      <td>7.476860</td>\n",
       "    </tr>\n",
       "    <tr>\n",
       "      <th>5</th>\n",
       "      <td>work_type_children</td>\n",
       "      <td>0.533614</td>\n",
       "      <td>1.705084</td>\n",
       "    </tr>\n",
       "    <tr>\n",
       "      <th>11</th>\n",
       "      <td>hypertension</td>\n",
       "      <td>0.233733</td>\n",
       "      <td>1.263307</td>\n",
       "    </tr>\n",
       "    <tr>\n",
       "      <th>13</th>\n",
       "      <td>avg_glucose_level</td>\n",
       "      <td>0.200439</td>\n",
       "      <td>1.221939</td>\n",
       "    </tr>\n",
       "    <tr>\n",
       "      <th>9</th>\n",
       "      <td>smoking_status_smokes</td>\n",
       "      <td>0.194200</td>\n",
       "      <td>1.214339</td>\n",
       "    </tr>\n",
       "    <tr>\n",
       "      <th>4</th>\n",
       "      <td>work_type_Self-employed</td>\n",
       "      <td>-0.143146</td>\n",
       "      <td>0.866628</td>\n",
       "    </tr>\n",
       "    <tr>\n",
       "      <th>2</th>\n",
       "      <td>work_type_Never_worked</td>\n",
       "      <td>-0.127582</td>\n",
       "      <td>0.880221</td>\n",
       "    </tr>\n",
       "    <tr>\n",
       "      <th>8</th>\n",
       "      <td>smoking_status_never smoked</td>\n",
       "      <td>-0.118598</td>\n",
       "      <td>0.888165</td>\n",
       "    </tr>\n",
       "    <tr>\n",
       "      <th>1</th>\n",
       "      <td>ever_married_Yes</td>\n",
       "      <td>-0.113707</td>\n",
       "      <td>0.892520</td>\n",
       "    </tr>\n",
       "    <tr>\n",
       "      <th>12</th>\n",
       "      <td>heart_disease</td>\n",
       "      <td>0.097470</td>\n",
       "      <td>1.102378</td>\n",
       "    </tr>\n",
       "    <tr>\n",
       "      <th>3</th>\n",
       "      <td>work_type_Private</td>\n",
       "      <td>0.070459</td>\n",
       "      <td>1.073001</td>\n",
       "    </tr>\n",
       "    <tr>\n",
       "      <th>14</th>\n",
       "      <td>bmi</td>\n",
       "      <td>0.056697</td>\n",
       "      <td>1.058335</td>\n",
       "    </tr>\n",
       "    <tr>\n",
       "      <th>6</th>\n",
       "      <td>Residence_type_Urban</td>\n",
       "      <td>-0.010371</td>\n",
       "      <td>0.989683</td>\n",
       "    </tr>\n",
       "    <tr>\n",
       "      <th>7</th>\n",
       "      <td>smoking_status_formerly smoked</td>\n",
       "      <td>0.009091</td>\n",
       "      <td>1.009132</td>\n",
       "    </tr>\n",
       "    <tr>\n",
       "      <th>0</th>\n",
       "      <td>gender_Male</td>\n",
       "      <td>-0.002225</td>\n",
       "      <td>0.997778</td>\n",
       "    </tr>\n",
       "  </tbody>\n",
       "</table>\n",
       "</div>"
      ],
      "text/plain": [
       "                           Feature  Coefficient  Odds Ratio\n",
       "10                             age     2.011813    7.476860\n",
       "5               work_type_children     0.533614    1.705084\n",
       "11                    hypertension     0.233733    1.263307\n",
       "13               avg_glucose_level     0.200439    1.221939\n",
       "9            smoking_status_smokes     0.194200    1.214339\n",
       "4          work_type_Self-employed    -0.143146    0.866628\n",
       "2           work_type_Never_worked    -0.127582    0.880221\n",
       "8      smoking_status_never smoked    -0.118598    0.888165\n",
       "1                 ever_married_Yes    -0.113707    0.892520\n",
       "12                   heart_disease     0.097470    1.102378\n",
       "3                work_type_Private     0.070459    1.073001\n",
       "14                             bmi     0.056697    1.058335\n",
       "6             Residence_type_Urban    -0.010371    0.989683\n",
       "7   smoking_status_formerly smoked     0.009091    1.009132\n",
       "0                      gender_Male    -0.002225    0.997778"
      ]
     },
     "execution_count": 93,
     "metadata": {},
     "output_type": "execute_result"
    }
   ],
   "source": [
    "# Retrieve the coefficients and feature names\n",
    "coefficients = lr_model.coef_[0]\n",
    "feature_names = X_train.columns\n",
    "\n",
    "# Create a DataFrame to display the coefficients and feature names\n",
    "feature_importance_df = pd.DataFrame({\n",
    "    'Feature': feature_names,\n",
    "    'Coefficient': coefficients,\n",
    "    'Odds Ratio': np.exp(coefficients)\n",
    "})\n",
    "\n",
    "# Sort the DataFrame by the absolute value of coefficients to highlight the most impactful features\n",
    "feature_importance_df = feature_importance_df.reindex(feature_importance_df['Coefficient'].abs().sort_values(ascending=False).index)\n",
    "\n",
    "# Display the feature importance DataFrame\n",
    "print(\"Feature Importance:\")\n",
    "feature_importance_df"
   ]
  },
  {
   "cell_type": "code",
   "execution_count": 94,
   "id": "a12e3793",
   "metadata": {},
   "outputs": [
    {
     "data": {
      "image/png": "[encoded data removed]",
      "text/plain": [
       "<Figure size 864x576 with 1 Axes>"
      ]
     },
     "metadata": {
      "needs_background": "light"
     },
     "output_type": "display_data"
    }
   ],
   "source": [
    "import seaborn as sns\n",
    "\n",
    "x=feature_importance_df['Feature']\n",
    "y=feature_importance_df['Coefficient']\n",
    "\n",
    "fig, ax = plt.subplots(figsize=(12, 8))\n",
    "\n",
    "colors = ['pink' if _y >=0 else 'red' for _y in y]\n",
    "ax = sns.barplot(x, y, palette=colors)\n",
    "\n",
    "ax.set_ylabel(\"Coefficient Values\", fontweight='bold')\n",
    "ax.set_xlabel(\"Column Names\", fontweight='bold')\n",
    "ax.set_title(\"Feature Importance by Column\", fontweight='bold')\n",
    "ax.tick_params (axis='x', labelrotation=50)\n",
    "\n",
    "sns.despine(ax=ax, bottom=True, left=True)\n",
    "plt.show()"
   ]
  },
  {
   "cell_type": "code",
   "execution_count": null,
   "id": "8c0a5b43",
   "metadata": {},
   "outputs": [],
   "source": []
  }
 ],
 "metadata": {
  "kernelspec": {
   "display_name": "Python (learn-env)",
   "language": "python",
   "name": "learn-env"
  },
  "language_info": {
   "codemirror_mode": {
    "name": "ipython",
    "version": 3
   },
   "file_extension": ".py",
   "mimetype": "text/x-python",
   "name": "python",
   "nbconvert_exporter": "python",
   "pygments_lexer": "ipython3",
   "version": "3.8.5"
  }
 },
 "nbformat": 4,
 "nbformat_minor": 5
}
